{
 "cells": [
  {
   "attachments": {},
   "cell_type": "markdown",
   "metadata": {},
   "source": [
    "#  tst"
   ]
  },
  {
   "cell_type": "code",
   "execution_count": 5,
   "metadata": {},
   "outputs": [],
   "source": [
    "import numpy as np\n",
    "import pandas as pd\n",
    "from PythonTsa.datadir import getdtapath"
   ]
  },
  {
   "cell_type": "code",
   "execution_count": 24,
   "metadata": {},
   "outputs": [],
   "source": [
    "dtapath=getdtapath()\n",
    "x = pd.read_csv(dtapath + 'gdpquarterlychina1992.1-2017.4.csv', header=0)\n",
    "x2 = np.random.normal(size=100)\n"
   ]
  },
  {
   "attachments": {},
   "cell_type": "markdown",
   "metadata": {},
   "source": []
  },
  {
   "cell_type": "code",
   "execution_count": 26,
   "metadata": {},
   "outputs": [
    {
     "name": "stdout",
     "output_type": "stream",
     "text": [
      "[ 0.04028964 -1.65675967 -0.08752815  1.00714545 -1.7531388  -0.81553263\n",
      " -1.10584606  0.9103369   1.01040716 -1.28516315  0.94537177  1.69252024\n",
      "  1.09614435  1.8730315   0.50993633 -0.26318542 -0.26149856  0.48366955\n",
      "  1.03656317 -2.24351796  0.7107158   0.77016803 -1.22292605  0.0570935\n",
      " -1.17635369  0.9922496   0.27406318  0.92292406 -0.56287147  1.70518395\n",
      " -0.1517764  -1.85893232  0.03625907  0.50479483 -0.76279114 -0.55769389\n",
      " -0.34063607  0.52036962  0.94167068  2.0887798   2.2595203   0.3727747\n",
      "  0.03017904 -2.43305043  0.04049925  0.55027169  0.38511116  1.26923037\n",
      " -1.14544162  0.55924722  0.72909959  0.83824247 -1.30615396  0.16864848\n",
      "  1.00325622 -0.40083527  0.4650872  -0.1005185  -0.78740847 -0.87777015\n",
      " -0.38886132  1.51559695  0.83319593 -1.94081476  0.70825818  0.67464669\n",
      " -0.17624057  0.64243134  2.21829108 -1.86055232 -0.10638008 -0.81309628\n",
      " -2.85146168  0.18841447  1.39730925 -0.76079614 -1.94925726  0.44970382\n",
      "  0.33532205  1.24035455 -1.78191586 -0.69931674 -0.52789102 -0.04718968\n",
      " -0.1992296  -2.30184325  0.49175898 -2.6002647   1.19014106 -0.60157084\n",
      "  0.807482    0.06404853  0.6872906  -0.39065533  0.7432139  -0.09082406\n",
      " -0.10211708  1.20625097  0.19301183 -0.25686348]\n"
     ]
    }
   ],
   "source": [
    "print(x2)"
   ]
  },
  {
   "cell_type": "code",
   "execution_count": 23,
   "metadata": {},
   "outputs": [
    {
     "ename": "NameError",
     "evalue": "name 'df' is not defined",
     "output_type": "error",
     "traceback": [
      "\u001b[0;31m---------------------------------------------------------------------------\u001b[0m",
      "\u001b[0;31mNameError\u001b[0m                                 Traceback (most recent call last)",
      "Cell \u001b[0;32mIn[23], line 1\u001b[0m\n\u001b[0;32m----> 1\u001b[0m df\n",
      "\u001b[0;31mNameError\u001b[0m: name 'df' is not defined"
     ]
    }
   ],
   "source": []
  },
  {
   "cell_type": "code",
   "execution_count": null,
   "metadata": {},
   "outputs": [],
   "source": []
  }
 ],
 "metadata": {
  "kernelspec": {
   "display_name": "Python 3",
   "language": "python",
   "name": "python3"
  },
  "language_info": {
   "codemirror_mode": {
    "name": "ipython",
    "version": 3
   },
   "file_extension": ".py",
   "mimetype": "text/x-python",
   "name": "python",
   "nbconvert_exporter": "python",
   "pygments_lexer": "ipython3",
   "version": "3.11.3"
  },
  "orig_nbformat": 4
 },
 "nbformat": 4,
 "nbformat_minor": 2
}
